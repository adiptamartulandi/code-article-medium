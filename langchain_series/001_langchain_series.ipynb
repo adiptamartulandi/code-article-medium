{
 "cells": [
  {
   "cell_type": "markdown",
   "metadata": {},
   "source": [
    "### Chain"
   ]
  },
  {
   "cell_type": "code",
   "execution_count": 12,
   "metadata": {},
   "outputs": [
    {
     "name": "stdout",
     "output_type": "stream",
     "text": [
      "\u001b[31mERROR: pip's dependency resolver does not currently take into account all the packages that are installed. This behaviour is the source of the following dependency conflicts.\n",
      "elasticsearch 7.17.0 requires urllib3<2,>=1.21.1, but you have urllib3 2.2.3 which is incompatible.\u001b[0m\u001b[31m\n",
      "\u001b[0m"
     ]
    }
   ],
   "source": [
    "!pip install -q langchain langchain-openai langchain_community google-search-results wikipedia langchain_chroma langchainhub"
   ]
  },
  {
   "cell_type": "code",
   "execution_count": null,
   "metadata": {},
   "outputs": [],
   "source": [
    "# import the necessary modules\n",
    "import getpass\n",
    "import os\n",
    "\n",
    "from langchain_openai import ChatOpenAI\n",
    "from langchain_core.output_parsers import StrOutputParser\n",
    "from langchain_core.prompts import ChatPromptTemplate\n",
    "\n",
    "# provide the OpenAI API key\n",
    "os.environ[\"OPENAI_API_KEY\"] = getpass.getpass()"
   ]
  },
  {
   "cell_type": "code",
   "execution_count": 3,
   "metadata": {},
   "outputs": [],
   "source": [
    "# create openai chat model\n",
    "model = ChatOpenAI(model=\"gpt-4o\")\n",
    "\n",
    "# create basic string output parser\n",
    "parser = StrOutputParser()\n",
    "\n",
    "# create prompt template\n",
    "system_template = \"Translate the following english {text} into {language}:\"\n",
    "\n",
    "prompt_template = ChatPromptTemplate.from_messages(\n",
    "    [(\"system\", system_template), (\"user\", \"{text}\")]\n",
    ")"
   ]
  },
  {
   "cell_type": "code",
   "execution_count": 4,
   "metadata": {},
   "outputs": [
    {
     "data": {
      "text/plain": [
       "\"Bonjour, comment ça va aujourd'hui ?\""
      ]
     },
     "execution_count": 4,
     "metadata": {},
     "output_type": "execute_result"
    }
   ],
   "source": [
    "# using LCEL to create chain\n",
    "chain = prompt_template | model | parser\n",
    "\n",
    "# invoke the chain\n",
    "chain.invoke({\"language\": \"french\", \"text\": \"Hello how are you today ?\"})"
   ]
  },
  {
   "cell_type": "markdown",
   "metadata": {},
   "source": [
    "### Agent"
   ]
  },
  {
   "cell_type": "code",
   "execution_count": 1,
   "metadata": {},
   "outputs": [],
   "source": [
    "# import necessary modules\n",
    "import getpass\n",
    "import os\n",
    "\n",
    "from langchain_openai import ChatOpenAI\n",
    "from langchain.agents import load_tools, initialize_agent, AgentType\n",
    "\n",
    "# provide the OpenAI API key\n",
    "os.environ[\"OPENAI_API_KEY\"] = getpass.getpass()\n",
    "\n",
    "# provide the Serp API key\n",
    "os.environ[\"SERPAPI_API_KEY\"] = getpass.getpass()"
   ]
  },
  {
   "cell_type": "code",
   "execution_count": 2,
   "metadata": {},
   "outputs": [
    {
     "name": "stderr",
     "output_type": "stream",
     "text": [
      "/Users/ruangguru/opt/anaconda3/envs/ds-chatbot-311/lib/python3.11/site-packages/langchain_core/_api/deprecation.py:139: LangChainDeprecationWarning: The function `initialize_agent` was deprecated in LangChain 0.1.0 and will be removed in 0.3.0. Use Use new agent constructor methods like create_react_agent, create_json_agent, create_structured_chat_agent, etc. instead.\n",
      "  warn_deprecated(\n"
     ]
    }
   ],
   "source": [
    "# create tools\n",
    "tools = load_tools([\"serpapi\"])\n",
    "\n",
    "# create openai chat model\n",
    "model = ChatOpenAI(model=\"gpt-4o\")\n",
    "\n",
    "# initialize agent\n",
    "agent = initialize_agent(\n",
    "    tools, \n",
    "    model, \n",
    "    agent=AgentType.CHAT_ZERO_SHOT_REACT_DESCRIPTION,\n",
    "    handle_parsing_errors=True,\n",
    "    verbose = True)"
   ]
  },
  {
   "cell_type": "code",
   "execution_count": 3,
   "metadata": {},
   "outputs": [
    {
     "name": "stderr",
     "output_type": "stream",
     "text": [
      "/Users/ruangguru/opt/anaconda3/envs/ds-chatbot-311/lib/python3.11/site-packages/langchain_core/_api/deprecation.py:139: LangChainDeprecationWarning: The method `Chain.__call__` was deprecated in langchain 0.1.0 and will be removed in 0.3.0. Use invoke instead.\n",
      "  warn_deprecated(\n"
     ]
    },
    {
     "name": "stdout",
     "output_type": "stream",
     "text": [
      "\n",
      "\n",
      "\u001b[1m> Entering new AgentExecutor chain...\u001b[0m\n",
      "\u001b[32;1m\u001b[1;3mTo determine why NVIDIA's stock is up, I should look for recent news or events that might have influenced the stock's performance. Let's search for the latest information. \n",
      "\n",
      "Action:\n",
      "```json\n",
      "{\n",
      "  \"action\": \"Search\",\n",
      "  \"action_input\": \"NVIDIA stock news October 2023\"\n",
      "}\n",
      "```\n",
      "\u001b[0m\n",
      "Observation: \u001b[36;1m\u001b[1;3m['Record quarterly revenue of $35.1 billion, up 17% from Q2 and up 94% from a year ago; Record quarterly Data Center revenue of $30.8 billion, ...', 'The closing price for NVIDIA (NVDA) in October 2023 was $40.77, on October 31, 2023. It was down 7.4% for the month. The latest price is $135.37.', \"It really doesn't matter much if you buy Nvidia stock before or after TSMC reports. The stock closed at a new record high on Monday, pushing Nvidia's market ...\", 'Discover historical prices for NVDA stock on Yahoo Finance. View daily, weekly or monthly format back to when NVIDIA Corporation stock was issued.', 'Nvidia stock cleared a trendline entry near 139.60 on Oct. 17 after Taiwan Semiconductor profits surged 54.2% year over year. Taiwan Semi is a ...', 'NVIDIA (NASDAQ: NVDA) today reported revenue for the third quarter ended October 29, 2023, of $18.12 billion, up 206% from a year ago and up 34% from the ...', 'Nvidia shares have added $2.9 trillion in market value since the launch of ChatGPT in November of 2022.', 'The company had a market cap of just $359 billion to kick off 2023. Now, its value has soared to more than $3.35 trillion (as of this writing) ...', 'Nvidia shares have surged 25% over the last month, with analysts maintaining a bullish outlook as earnings season approaches.']\u001b[0m\n",
      "Thought:\u001b[32;1m\u001b[1;3mTo determine why NVIDIA's stock is up, I should analyze the recent news and events impacting its stock performance. From the search results, it appears that NVIDIA has had several positive developments:\n",
      "\n",
      "1. **Record Revenue:** NVIDIA reported record quarterly revenue, which significantly increased from both the previous quarter and the same period last year. This indicates strong financial performance, which is often a key driver for stock price increases.\n",
      "\n",
      "2. **Data Center Revenue:** A substantial portion of this revenue comes from NVIDIA's data center business, suggesting strong demand in this segment.\n",
      "\n",
      "3. **Market Valuation Surge:** NVIDIA's market value has surged, especially since the launch of AI technologies like ChatGPT, which utilize NVIDIA's hardware. This reflects investor confidence in NVIDIA's role in AI and data processing.\n",
      "\n",
      "4. **Positive Analyst Outlook:** Continued bullish outlook from analysts as earnings season approaches, reflecting positive sentiment around NVIDIA's future performance.\n",
      "\n",
      "These factors combined likely contributed to the rise in NVIDIA's stock price. \n",
      "\n",
      "Final Answer: NVIDIA's stock is up due to record quarterly revenue, strong data center performance, increased demand from AI technologies, and a positive outlook from analysts.\u001b[0m\n",
      "\n",
      "\u001b[1m> Finished chain.\u001b[0m\n"
     ]
    },
    {
     "data": {
      "text/plain": [
       "{'input': 'why nvidia stocks are up?',\n",
       " 'output': \"NVIDIA's stock is up due to record quarterly revenue, strong data center performance, increased demand from AI technologies, and a positive outlook from analysts.\"}"
      ]
     },
     "execution_count": 3,
     "metadata": {},
     "output_type": "execute_result"
    }
   ],
   "source": [
    "# invoke agent\n",
    "agent(\"why nvidia stocks are up?\")"
   ]
  },
  {
   "cell_type": "code",
   "execution_count": 4,
   "metadata": {},
   "outputs": [
    {
     "name": "stdout",
     "output_type": "stream",
     "text": [
      "\n",
      "\n",
      "\u001b[1m> Entering new AgentExecutor chain...\u001b[0m\n",
      "\u001b[32;1m\u001b[1;3mQuestion: What is the difference between a stock and a bond?\n",
      "\n",
      "Thought: I know that stocks and bonds are both financial instruments but serve different purposes. Let me explain their key differences.\n",
      "\n",
      "Final Answer: The main difference between a stock and a bond is their nature and the rights they confer to the holder:\n",
      "\n",
      "1. **Ownership vs. Debt**:\n",
      "   - **Stock**: Represents ownership in a company. When you buy a stock, you become a shareholder and own a part of the company. You have a claim on part of the company's assets and earnings.\n",
      "   - **Bond**: Represents a loan made by the investor to a borrower (typically corporate or governmental). When you buy a bond, you are lending money to the issuer in exchange for periodic interest payments and the return of the bond's face value when it matures.\n",
      "\n",
      "2. **Returns**:\n",
      "   - **Stock**: Returns come in the form of dividends and capital gains. Dividend payments are not guaranteed and depend on the company's profitability.\n",
      "   - **Bond**: Returns are usually fixed and come in the form of regular interest payments (also known as coupon payments). Bonds are generally seen as lower-risk investments compared to stocks.\n",
      "\n",
      "3. **Risk**:\n",
      "   - **Stock**: Higher risk due to price volatility and the company's performance, which can affect the stock price.\n",
      "   - **Bond**: Typically lower risk, especially government bonds, although they are subject to interest rate risk and the credit risk of the issuer.\n",
      "\n",
      "4. **Voting Rights**:\n",
      "   - **Stock**: Shareholders often have voting rights in the company, allowing them to vote on corporate matters.\n",
      "   - **Bond**: Bondholders do not have voting rights in the company.\n",
      "\n",
      "In summary, stocks offer the potential for higher returns through ownership and capital appreciation, while bonds provide more stable returns through interest payments and are considered less risky.\u001b[0m\n",
      "\n",
      "\u001b[1m> Finished chain.\u001b[0m\n"
     ]
    },
    {
     "data": {
      "text/plain": [
       "{'input': 'the difference between a stock and a bond',\n",
       " 'output': \"The main difference between a stock and a bond is their nature and the rights they confer to the holder:\\n\\n1. **Ownership vs. Debt**:\\n   - **Stock**: Represents ownership in a company. When you buy a stock, you become a shareholder and own a part of the company. You have a claim on part of the company's assets and earnings.\\n   - **Bond**: Represents a loan made by the investor to a borrower (typically corporate or governmental). When you buy a bond, you are lending money to the issuer in exchange for periodic interest payments and the return of the bond's face value when it matures.\\n\\n2. **Returns**:\\n   - **Stock**: Returns come in the form of dividends and capital gains. Dividend payments are not guaranteed and depend on the company's profitability.\\n   - **Bond**: Returns are usually fixed and come in the form of regular interest payments (also known as coupon payments). Bonds are generally seen as lower-risk investments compared to stocks.\\n\\n3. **Risk**:\\n   - **Stock**: Higher risk due to price volatility and the company's performance, which can affect the stock price.\\n   - **Bond**: Typically lower risk, especially government bonds, although they are subject to interest rate risk and the credit risk of the issuer.\\n\\n4. **Voting Rights**:\\n   - **Stock**: Shareholders often have voting rights in the company, allowing them to vote on corporate matters.\\n   - **Bond**: Bondholders do not have voting rights in the company.\\n\\nIn summary, stocks offer the potential for higher returns through ownership and capital appreciation, while bonds provide more stable returns through interest payments and are considered less risky.\"}"
      ]
     },
     "execution_count": 4,
     "metadata": {},
     "output_type": "execute_result"
    }
   ],
   "source": [
    "agent(\"the difference between a stock and a bond\")"
   ]
  },
  {
   "cell_type": "markdown",
   "metadata": {},
   "source": [
    "### Use Case : Building RAG Applications"
   ]
  },
  {
   "cell_type": "code",
   "execution_count": null,
   "metadata": {},
   "outputs": [
    {
     "name": "stderr",
     "output_type": "stream",
     "text": [
      "USER_AGENT environment variable not set, consider setting it to identify your requests.\n"
     ]
    }
   ],
   "source": [
    "# import necessary modules\n",
    "import getpass\n",
    "import os\n",
    "\n",
    "from langchain_openai import ChatOpenAI\n",
    "from langchain import hub\n",
    "from langchain_chroma import Chroma\n",
    "from langchain_community.document_loaders import WebBaseLoader\n",
    "from langchain_core.output_parsers import StrOutputParser\n",
    "from langchain_core.runnables import RunnablePassthrough\n",
    "from langchain_openai import OpenAIEmbeddings\n",
    "from langchain_text_splitters import RecursiveCharacterTextSplitter\n",
    "\n",
    "os.environ[\"OPENAI_API_KEY\"] = getpass.getpass()\n",
    "\n",
    "# create utility function to format the documents\n",
    "def format_docs(docs):\n",
    "    return \"\\n\\n\".join(doc.page_content for doc in docs)"
   ]
  },
  {
   "cell_type": "code",
   "execution_count": 9,
   "metadata": {},
   "outputs": [],
   "source": [
    "# load the document that we want to analyze\n",
    "# this document is a blog post from Google Research related to react agent\n",
    "loader = WebBaseLoader(web_paths=(\"https://research.google/blog/react-synergizing-reasoning-and-acting-in-language-models/\",))\n",
    "docs = loader.load()\n",
    "\n",
    "# create a text splitter to split the document into smaller chunks\n",
    "text_splitter = RecursiveCharacterTextSplitter(chunk_size=1000, chunk_overlap=200)\n",
    "splits = text_splitter.split_documents(docs)\n",
    "\n",
    "# convert into vector embeddings and save it in the vector store (Chroma)\n",
    "vectorstore = Chroma.from_documents(documents=splits, embedding=OpenAIEmbeddings())"
   ]
  },
  {
   "cell_type": "code",
   "execution_count": null,
   "metadata": {},
   "outputs": [],
   "source": [
    "# create a retriever from the vector store\n",
    "retriever = vectorstore.as_retriever()\n",
    "\n",
    "# we will use rag-prompt from the hub\n",
    "prompt = hub.pull(\"rlm/rag-prompt\")\n",
    "\n",
    "# create openai chat model\n",
    "model = ChatOpenAI(model=\"gpt-4o\")\n",
    "\n",
    "# create rag-chain model\n",
    "rag_chain = (\n",
    "    {\"context\": retriever | format_docs, \"question\": RunnablePassthrough()}\n",
    "    | prompt\n",
    "    | model\n",
    "    | StrOutputParser()\n",
    ")"
   ]
  },
  {
   "cell_type": "code",
   "execution_count": 15,
   "metadata": {},
   "outputs": [
    {
     "data": {
      "text/plain": [
       "'ReAct is a method that integrates reasoning and acting within language models to solve various reasoning and decision-making tasks. It combines reasoning traces and text actions to improve performance, interpretability, and control by enabling language models to interact with and adapt to external environments. This approach systematically outperforms previous methods that focused solely on either reasoning or acting.'"
      ]
     },
     "execution_count": 15,
     "metadata": {},
     "output_type": "execute_result"
    }
   ],
   "source": [
    "# invoke the rag-chain\n",
    "rag_chain.invoke(\"What is Re-Act Agent?\")"
   ]
  },
  {
   "cell_type": "code",
   "execution_count": 16,
   "metadata": {},
   "outputs": [
    {
     "data": {
      "text/plain": [
       "'The researchers of the ReAct agent include Shunyu Yao and Yuan Cao, who are affiliated with Google Research, Brain Team.'"
      ]
     },
     "execution_count": 16,
     "metadata": {},
     "output_type": "execute_result"
    }
   ],
   "source": [
    "# invoke the rag-chain\n",
    "rag_chain.invoke(\"Who is the researcher of react agent?\")"
   ]
  }
 ],
 "metadata": {
  "kernelspec": {
   "display_name": "ds-chatbot-311",
   "language": "python",
   "name": "python3"
  },
  "language_info": {
   "codemirror_mode": {
    "name": "ipython",
    "version": 3
   },
   "file_extension": ".py",
   "mimetype": "text/x-python",
   "name": "python",
   "nbconvert_exporter": "python",
   "pygments_lexer": "ipython3",
   "version": "3.11.9"
  }
 },
 "nbformat": 4,
 "nbformat_minor": 2
}
